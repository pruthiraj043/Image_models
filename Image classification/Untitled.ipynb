{
 "cells": [
  {
   "cell_type": "code",
   "execution_count": 1,
   "id": "fa94e8b2-3b98-42d4-9612-d70cdd8b2abb",
   "metadata": {
    "tags": []
   },
   "outputs": [],
   "source": [
    "with open('imagenet_class.txt') as f:\n",
    "    classes = [line.strip() for line in f.readlines()]"
   ]
  },
  {
   "cell_type": "code",
   "execution_count": 10,
   "id": "77750dac-c67f-4639-add5-eabb9ad7662f",
   "metadata": {
    "tags": []
   },
   "outputs": [
    {
     "data": {
      "text/plain": [
       "'0, tench'"
      ]
     },
     "execution_count": 10,
     "metadata": {},
     "output_type": "execute_result"
    }
   ],
   "source": [
    "classes[0]"
   ]
  },
  {
   "cell_type": "code",
   "execution_count": null,
   "id": "d434ea80-2a25-4c87-95d6-4c528f2bd15d",
   "metadata": {},
   "outputs": [],
   "source": [
    "classes"
   ]
  }
 ],
 "metadata": {
  "kernelspec": {
   "display_name": "Python 3 (ipykernel)",
   "language": "python",
   "name": "python3"
  },
  "language_info": {
   "codemirror_mode": {
    "name": "ipython",
    "version": 3
   },
   "file_extension": ".py",
   "mimetype": "text/x-python",
   "name": "python",
   "nbconvert_exporter": "python",
   "pygments_lexer": "ipython3",
   "version": "3.10.4"
  }
 },
 "nbformat": 4,
 "nbformat_minor": 5
}
